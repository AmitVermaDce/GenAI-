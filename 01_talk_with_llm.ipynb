{
 "cells": [
  {
   "cell_type": "code",
   "execution_count": null,
   "metadata": {},
   "outputs": [],
   "source": [
    "print(\"ok\")"
   ]
  },
  {
   "cell_type": "code",
   "execution_count": 8,
   "metadata": {},
   "outputs": [],
   "source": [
    "import os\n",
    "from dotenv import load_dotenv, find_dotenv\n",
    "_= load_dotenv(find_dotenv())\n",
    "open_api_key = os.environ[\"OPENAI_API_KEY\"]\n",
    "groq_api_key = os.environ[\"GROQ_API_KEY\"]"
   ]
  },
  {
   "cell_type": "code",
   "execution_count": 3,
   "metadata": {},
   "outputs": [],
   "source": [
    "# Completion Model\n",
    "from langchain_openai import OpenAI\n",
    "llmModel = OpenAI()"
   ]
  },
  {
   "cell_type": "code",
   "execution_count": null,
   "metadata": {},
   "outputs": [],
   "source": [
    "llmModel"
   ]
  },
  {
   "cell_type": "code",
   "execution_count": null,
   "metadata": {},
   "outputs": [],
   "source": [
    "# One shot output\n",
    "response = llmModel.invoke('Tell me one fun fact about John F Kennedy')\n",
    "print(response)"
   ]
  },
  {
   "cell_type": "code",
   "execution_count": null,
   "metadata": {},
   "outputs": [],
   "source": [
    "# Streaming Output\n",
    "for chunk in llmModel.stream(\n",
    "    'Tell me one fun fact about John F Kennedy'\n",
    "):\n",
    "    print(chunk, end=\"\", flush=True)"
   ]
  },
  {
   "cell_type": "code",
   "execution_count": null,
   "metadata": {},
   "outputs": [],
   "source": [
    "# Configure parameters\n",
    "updatellmModel = OpenAI(temperature=\"0.9\") # Temperature close to 1 means more creative and close to 0 less creative"
   ]
  },
  {
   "cell_type": "code",
   "execution_count": null,
   "metadata": {},
   "outputs": [],
   "source": [
    "reponse = llmModel.invoke(\"Write a short 5 line poem about JFK.\")"
   ]
  },
  {
   "cell_type": "code",
   "execution_count": 9,
   "metadata": {},
   "outputs": [],
   "source": [
    "# Chat Model\n",
    "from langchain_openai import ChatOpenAI\n",
    "\n",
    "chatModel = ChatOpenAI(model=\"gpt-3.5-turbo-0125\")\n",
    "message = [\n",
    "    (\"system\", \"You are an historian expert in the Kennedy family\"),  # System Instructions\n",
    "    (\"user\", \"Tell me interesting fact about John F Kennedy\")\n",
    "    # With Open AI it is User and Assistant but with Langchain it is human and AIMessage\n",
    "]"
   ]
  },
  {
   "cell_type": "code",
   "execution_count": null,
   "metadata": {},
   "outputs": [],
   "source": [
    "# Print only content of the response\n",
    "print(response.content)"
   ]
  },
  {
   "cell_type": "code",
   "execution_count": null,
   "metadata": {},
   "outputs": [],
   "source": [
    "# Metadata like how many tokens, etc\n",
    "print(response.response_metadata)"
   ]
  },
  {
   "cell_type": "code",
   "execution_count": null,
   "metadata": {},
   "outputs": [],
   "source": [
    "# Print entire schema \n",
    "print(response.schema())"
   ]
  },
  {
   "cell_type": "markdown",
   "metadata": {},
   "source": [
    "# Old Chain"
   ]
  },
  {
   "cell_type": "code",
   "execution_count": 13,
   "metadata": {},
   "outputs": [],
   "source": [
    "from langchain_core.messages import HumanMessage, SystemMessage\n",
    "from langchain_core.prompts import ChatPromptTemplate\n",
    "\n",
    "messages = [\n",
    "    SystemMessage(content=\"You are a Historian expert on the kennedy Family\"),\n",
    "    HumanMessage(content=\"How many children had Jospeh P. Kennedy? \")\n",
    "]\n",
    "response = ChatPromptTemplate(messages=messages)\n"
   ]
  },
  {
   "cell_type": "markdown",
   "metadata": {},
   "source": [
    "# Alternative LLM"
   ]
  },
  {
   "cell_type": "code",
   "execution_count": 17,
   "metadata": {},
   "outputs": [],
   "source": [
    "from langchain_groq import ChatGroq\n",
    "\n",
    "llamaModel = ChatGroq(\n",
    "    model=\"llama3-70b-8192\"\n",
    ")\n",
    "mistralChatModel = ChatGroq(\n",
    "    model=\"mixtral-8x7b-32768\"\n",
    ")\n",
    "\n",
    "messages = [\n",
    "    (\"system\", \"You are a Historian expert on the kennedy Family\"),\n",
    "    (\"user\", \"How many members of the family died tragically?\"),\n",
    "]"
   ]
  },
  {
   "cell_type": "code",
   "execution_count": 18,
   "metadata": {},
   "outputs": [
    {
     "data": {
      "text/plain": [
       "'The Kennedy family has indeed been touched by tragedy, and it\\'s a painful part of their history. Here\\'s a brief overview of the family members who died tragically:\\n\\n1. **Joseph P. Kennedy Jr.** (1915-1944): The eldest son of Joseph P. Kennedy Sr. and Rose Kennedy, Joseph Jr. was a naval aviator who died in a plane crash during World War II. He was just 29 years old.\\n2. **Kathleen Kennedy** (1920-1948): Known as \"Kick,\" Kathleen was the second daughter of Joseph P. Kennedy Sr. and Rose Kennedy. She died in a plane crash in France at the age of 28.\\n3. **John F. Kennedy** (1917-1963): The 35th President of the United States, John F. Kennedy was assassinated in Dallas, Texas, on November 22, 1963, at the age of 46.\\n4. **Robert F. Kennedy** (1925-1968): The U.S. Attorney General and Senator from New York, Robert Kennedy was assassinated in Los Angeles, California, on June 5, 1968, during his presidential campaign. He was 42 years old.\\n5. **David Kennedy** (1955-1984): The 12th child of Robert F. Kennedy, David died of a drug overdose in a hotel room in Palm Beach, Florida, at the age of 28.\\n6. **Michael Kennedy** (1958-1997): The 6th child of Robert F. Kennedy, Michael died in a skiing accident in Aspen, Colorado, at the age of 39.\\n7. **John F. Kennedy Jr.** (1960-1999): The son of John F. Kennedy and Jacqueline Kennedy Onassis, John Jr. died in a plane crash off the coast of Massachusetts at the age of 38.\\n8. **Kara Kennedy** (1960-2011): The 3rd child of Edward \"Ted\" Kennedy, Kara died of a heart attack while exercising at a health club in Washington, D.C., at the age of 51.\\n9. **Saoirse Kennedy Hill** (1997-2019): The granddaughter of Robert F. Kennedy, Saoirse died of a suspected drug overdose at the Kennedy compound in Hyannis Port, Massachusetts, at the age of 22.\\n\\nThese tragic events have indeed had a profound impact on the Kennedy family, and their legacy continues to be felt to this day.'"
      ]
     },
     "execution_count": 18,
     "metadata": {},
     "output_type": "execute_result"
    }
   ],
   "source": [
    "llmResponse = llamaModel.invoke(messages)\n",
    "llmResponse.content"
   ]
  },
  {
   "cell_type": "code",
   "execution_count": 19,
   "metadata": {},
   "outputs": [
    {
     "data": {
      "text/plain": [
       "'The Kennedy family has experienced a significant amount of tragedy, with several members dying in unfortunate circumstances. Here are some of the most notable Kennedy family deaths:\\n\\n1. Joseph P. Kennedy Sr.\\'s car accident: In 1919, Joseph P. Kennedy Sr., the patriarch of the Kennedy family, was involved in a car accident that left him with a lifelong scar and injuries to his spine. While not fatal, this accident had a lasting impact on his life.\\n2. Joseph P. Kennedy Jr.\\'s death in World War II: Joseph P. Kennedy Jr., the eldest son of Joseph P. Kennedy Sr. and Rose Fitzgerald Kennedy, was a naval aviator during World War II. He died in 1944 when his plane exploded during a secret mission.\\n3. Kathleen Kennedy\\'s plane crash: Kathleen \"Kick\" Kennedy, the fourth child of Joseph P. Kennedy Sr. and Rose Fitzgerald Kennedy, died in a plane crash in 1948 while traveling to France with her husband, Billy Hartington.\\n4. John F. Kennedy\\'s assassination: John F. Kennedy, the 35th President of the United States, was assassinated on November 22, 1963, in Dallas, Texas.\\n5. Robert F. Kennedy\\'s assassination: Robert F. Kennedy, a United States Senator and Attorney General during his brother John\\'s presidency, was assassinated on June 5, 1968, in Los Angeles, California, while campaigning for the Democratic presidential nomination.\\n6. Edward M. Kennedy\\'s plane crash: Edward M. \"Ted\" Kennedy, a long-serving U.S. Senator and the youngest brother of John and Robert Kennedy, survived a plane crash in 1964 that killed one of his aides and severely injured another.\\n7. David Kennedy\\'s death by drug overdose: David Kennedy, the fourth child of Robert F. Kennedy and Ethel Skakel Kennedy, died of a drug overdose in 1984 at the age of 28.\\n8. Michael Kennedy\\'s skiing accident: Michael Kennedy, the seventh child of Robert F. Kennedy and Ethel Skakel Kennedy, died in a skiing accident in 1997 at the age of 39.\\n\\nIn total, seven members of the Kennedy family have died tragically, with five of these deaths being the result of violence or accidents.'"
      ]
     },
     "execution_count": 19,
     "metadata": {},
     "output_type": "execute_result"
    }
   ],
   "source": [
    "mistralResponse = mistralChatModel.invoke(messages)\n",
    "mistralResponse.content"
   ]
  },
  {
   "cell_type": "code",
   "execution_count": null,
   "metadata": {},
   "outputs": [],
   "source": []
  }
 ],
 "metadata": {
  "kernelspec": {
   "display_name": "genai",
   "language": "python",
   "name": "python3"
  },
  "language_info": {
   "codemirror_mode": {
    "name": "ipython",
    "version": 3
   },
   "file_extension": ".py",
   "mimetype": "text/x-python",
   "name": "python",
   "nbconvert_exporter": "python",
   "pygments_lexer": "ipython3",
   "version": "3.11.7"
  }
 },
 "nbformat": 4,
 "nbformat_minor": 2
}
